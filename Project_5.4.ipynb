{
 "cells": [
  {
   "cell_type": "code",
   "execution_count": 13,
   "id": "da6e58dd-efbc-413d-92d9-43b45d9e8040",
   "metadata": {},
   "outputs": [
    {
     "ename": "SyntaxError",
     "evalue": "invalid character '“' (U+201C) (67155668.py, line 15)",
     "output_type": "error",
     "traceback": [
      "\u001b[0;36m  Cell \u001b[0;32mIn[13], line 15\u001b[0;36m\u001b[0m\n\u001b[0;31m    multi-core processor, i.e. a single computing component with two or more independent actual processing units (called “cores”).\u001b[0m\n\u001b[0m                                                                                                                         ^\u001b[0m\n\u001b[0;31mSyntaxError\u001b[0m\u001b[0;31m:\u001b[0m invalid character '“' (U+201C)\n"
     ]
    }
   ],
   "source": [
    "#Q1. What is multiprocessing in python? Why is it useful?  \n",
    "\n",
    "#Ans.Multiprocessing refers to the ability of a system to support more than one processor at the same time. Applications in a multiprocessing system are broken to smaller routines that run independently.\n",
    "The operating system allocates these threads to the processors improving performance of the system.\n",
    "\n",
    "#Consider a computer system with a single processor. If it is assigned several processes at the same time, it will have to interrupt each task and switch briefly to another, to keep all of the processes going.\n",
    "This situation is just like a chef working in a kitchen alone. He has to do several tasks like baking, stirring, kneading dough, etc.\n",
    "So the gist is that: The more tasks you must do at once, the more difficult it gets to keep track of them all, and keeping the timing right becomes more of a challenge.\n",
    "\n",
    "#This is where the concept of multiprocessing arises!\n",
    "\n",
    "#A multiprocessing system can have:\n",
    "\n",
    "#multiprocessor, i.e. a computer with more than one central processor.\n",
    "multi-core processor, i.e. a single computing component with two or more independent actual processing units (called “cores”).\n",
    "\n",
    "Here, the CPU can easily executes several tasks at once, with each task using its own processor.\n",
    "It is just like the chef in last situation being assisted by his assistants. Now, they can divide the tasks among themselves and chef doesn’t need to switch between his tasks.\n"
   ]
  },
  {
   "cell_type": "code",
   "execution_count": 14,
   "id": "4675f2f1-f7be-42b6-a9e8-30af45d79048",
   "metadata": {},
   "outputs": [],
   "source": [
    "#Q2. What are the differences between multiprocessing and multithreading?"
   ]
  },
  {
   "cell_type": "code",
   "execution_count": 15,
   "id": "3def26a9-3b11-4c43-aa48-5a94ed97d059",
   "metadata": {},
   "outputs": [
    {
     "ename": "SyntaxError",
     "evalue": "invalid syntax (2218620426.py, line 1)",
     "output_type": "error",
     "traceback": [
      "\u001b[0;36m  Cell \u001b[0;32mIn[15], line 1\u001b[0;36m\u001b[0m\n\u001b[0;31m    ans. MultiProcessing:\u001b[0m\n\u001b[0m                         ^\u001b[0m\n\u001b[0;31mSyntaxError\u001b[0m\u001b[0;31m:\u001b[0m invalid syntax\n"
     ]
    }
   ],
   "source": [
    "ans. MultiProcessing:\n",
    "In Multiprocessing, CPUs are added for increasing computing power.\n",
    "In Multiprocessing, Many processes are executed simultaneously.\n",
    "Multiprocessing are classified into Symmetric and Asymmetric.\n",
    "In Multiprocessing, Process creation is a time-consuming process.\n",
    "In Multiprocessing, every process owned a separate address space."
   ]
  },
  {
   "cell_type": "code",
   "execution_count": 16,
   "id": "fbf228a7-2084-4abd-82f4-94c437389eab",
   "metadata": {},
   "outputs": [
    {
     "ename": "SyntaxError",
     "evalue": "invalid syntax (2555596094.py, line 1)",
     "output_type": "error",
     "traceback": [
      "\u001b[0;36m  Cell \u001b[0;32mIn[16], line 1\u001b[0;36m\u001b[0m\n\u001b[0;31m    MultiThreading:\u001b[0m\n\u001b[0m                   ^\u001b[0m\n\u001b[0;31mSyntaxError\u001b[0m\u001b[0;31m:\u001b[0m invalid syntax\n"
     ]
    }
   ],
   "source": [
    "MultiThreading:\n",
    "While In Multithreading, many threads are created of a single process for increasing computing power.\n",
    "While in multithreading, many threads of a process are executed simultaneously.\n",
    "While Multithreading is not classified in any categories.\n",
    "While in Multithreading, process creation is according to economical.\n",
    "While in Multithreading, a common address space is shared by all the threads."
   ]
  },
  {
   "cell_type": "code",
   "execution_count": 17,
   "id": "42e1ab15-d550-4253-94d6-715cb84da480",
   "metadata": {},
   "outputs": [],
   "source": [
    "#Q3. Write a python code to create a process using the multiprocessing module."
   ]
  },
  {
   "cell_type": "code",
   "execution_count": 18,
   "id": "6a199577-831b-4639-93a5-48fb9838caec",
   "metadata": {},
   "outputs": [
    {
     "name": "stdout",
     "output_type": "stream",
     "text": [
      "this is my main program\n",
      "This is a multiprocessing prog\n"
     ]
    }
   ],
   "source": [
    "import multiprocessing\n",
    "\n",
    "def test():\n",
    "    print(\"This is a multiprocessing prog\")\n",
    "    \n",
    "if __name__ == \"__main__\":\n",
    "    m=multiprocessing.Process(target=test)\n",
    "    print(\"this is my main program\")\n",
    "    m.start()\n",
    "    m.join()"
   ]
  },
  {
   "cell_type": "code",
   "execution_count": 19,
   "id": "d0181b98-2fd0-4361-ab12-97d3c333d934",
   "metadata": {},
   "outputs": [],
   "source": [
    "#Q4. What is a multiprocessing pool in python? Why is it used?"
   ]
  },
  {
   "cell_type": "code",
   "execution_count": 20,
   "id": "ed218949-7982-461d-8ec9-f1e0e65f44de",
   "metadata": {},
   "outputs": [],
   "source": [
    "#ans.A. Multiprocessing in Python is a technique that allows the execution of multiple processes, each with its own memory space and Python interpreter, to achieve parallelism and leverage multiple CPU cores for better performance."
   ]
  },
  {
   "cell_type": "code",
   "execution_count": 21,
   "id": "517f4dae-8d51-47b1-ab15-d1eb04a42433",
   "metadata": {},
   "outputs": [
    {
     "name": "stdout",
     "output_type": "stream",
     "text": [
      "[4, 9, 25, 36, 4, 25, 36, 178929]\n"
     ]
    }
   ],
   "source": [
    "def square(n):\n",
    "    return n**2\n",
    "if __name__ == \"__main__\":\n",
    "     with multiprocessing.Pool(processes=5) as p:\n",
    "        out = p.map(square,[2,3,5,6,2,5,6,423])\n",
    "        print(out)"
   ]
  },
  {
   "cell_type": "code",
   "execution_count": 22,
   "id": "a29575a4-74d5-462f-9742-b156c4016cac",
   "metadata": {},
   "outputs": [],
   "source": [
    "#Q5. How can we create a pool of worker processes in python using the multiprocessing module?"
   ]
  },
  {
   "cell_type": "code",
   "execution_count": 23,
   "id": "dff58a2f-343e-40d9-9474-3d838cc9c205",
   "metadata": {},
   "outputs": [
    {
     "name": "stdout",
     "output_type": "stream",
     "text": [
      "[2, 4, 6, 8, 10]\n"
     ]
    }
   ],
   "source": [
    "import multiprocessing\n",
    "\n",
    "def worker_function(task):\n",
    "    result = task * 2\n",
    "    return result\n",
    "\n",
    "if __name__ == '__main__':\n",
    "    num_workers = 4 \n",
    "    pool = multiprocessing.Pool(processes=num_workers)\n",
    "\n",
    "\n",
    "    tasks = [1, 2, 3, 4, 5]\n",
    "\n",
    "\n",
    "    results = pool.map(worker_function, tasks)\n",
    "\n",
    "    pool.close()\n",
    "    pool.join()\n",
    "\n",
    "    print(results)"
   ]
  },
  {
   "cell_type": "code",
   "execution_count": 24,
   "id": "06e43227-1fb5-462b-8c60-4391b8a3d6b0",
   "metadata": {},
   "outputs": [],
   "source": [
    "#Q6. Write a python program to create 4 processes, each process should print a different number using the multiprocessing module in python.\n"
   ]
  },
  {
   "cell_type": "code",
   "execution_count": 25,
   "id": "e6a46678-9157-432f-b016-375c0719333d",
   "metadata": {},
   "outputs": [
    {
     "name": "stdout",
     "output_type": "stream",
     "text": [
      "Process 1: I am printing 1.\n",
      "Process 2: I am printing 2.\n",
      "Process 3: I am printing 3.\n",
      "Process 4: I am printing 4.\n"
     ]
    }
   ],
   "source": [
    "import multiprocessing\n",
    "\n",
    "def print_number(number):\n",
    "    print(f\"Process {number}: I am printing {number}.\")\n",
    "\n",
    "if __name__ == '__main__':\n",
    "    processes = []\n",
    "    for i in range(4):\n",
    "        process = multiprocessing.Process(target=print_number, args=(i+1,))\n",
    "        processes.append(process)\n",
    "        process.start()\n",
    "\n",
    "    for process in processes:\n",
    "        process.join()\n"
   ]
  },
  {
   "cell_type": "code",
   "execution_count": null,
   "id": "a50f7f97-c385-41d7-b83d-9a3029516836",
   "metadata": {},
   "outputs": [],
   "source": []
  }
 ],
 "metadata": {
  "kernelspec": {
   "display_name": "Python 3 (ipykernel)",
   "language": "python",
   "name": "python3"
  },
  "language_info": {
   "codemirror_mode": {
    "name": "ipython",
    "version": 3
   },
   "file_extension": ".py",
   "mimetype": "text/x-python",
   "name": "python",
   "nbconvert_exporter": "python",
   "pygments_lexer": "ipython3",
   "version": "3.10.8"
  }
 },
 "nbformat": 4,
 "nbformat_minor": 5
}
