{
 "cells": [
  {
   "cell_type": "code",
   "execution_count": 2,
   "id": "2a183cf4-5c41-4be8-8d2f-7f0e859e8916",
   "metadata": {},
   "outputs": [],
   "source": [
    "#Q1. What is multithreading in python? hy is it used? Name the module used to handle threads in python"
   ]
  },
  {
   "cell_type": "code",
   "execution_count": 3,
   "id": "9de110b8-92df-4399-b849-d377a8e7cccb",
   "metadata": {},
   "outputs": [],
   "source": [
    "# Multithreading in Python is a popular technique that enables multiple tasks to be executed simultaneously i.e the ability of a processor to execute multiple threads simultaneously is known as multithreading\n",
    "#Python multithreading facilitates sharing data space and resources of multiple threads with the main thread. It allows efficient and easy communication between the threads.\n",
    "#The goal of multithreading is to complete multiple tasks at the same time, which improves application rendering and performance.\n",
    "#Programmers can run multiple subtasks of an application at the same time by using multithreading. It lets threads talk to the same processor and share resources like files, data, and memory and it makes it easier for the user to continue running a program even when a portion of it is blocked or too long\n",
    "#The module used to handle threads in python is the threading and thread module but the thread module is discontinuted in python 3 and threading module has all the methods of thread module along with additional methods\n"
   ]
  },
  {
   "cell_type": "code",
   "execution_count": 4,
   "id": "f220c7fc-f034-4920-be2b-96871a0d6ca3",
   "metadata": {},
   "outputs": [],
   "source": [
    "# Q2.Why threading module used? Write the use of the following functions\n",
    "    "
   ]
  },
  {
   "cell_type": "code",
   "execution_count": 5,
   "id": "4de0dff4-c2f7-4878-8b25-f419f711d264",
   "metadata": {},
   "outputs": [],
   "source": [
    "# A. activeCount\n",
    "# B. currentThread\n",
    "# C. enumerate\n"
   ]
  },
  {
   "cell_type": "code",
   "execution_count": 6,
   "id": "d8f62896-f27f-4d17-833d-4950310fac15",
   "metadata": {},
   "outputs": [
    {
     "ename": "IndentationError",
     "evalue": "unexpected indent (3626890285.py, line 2)",
     "output_type": "error",
     "traceback": [
      "\u001b[0;36m  Cell \u001b[0;32mIn[6], line 2\u001b[0;36m\u001b[0m\n\u001b[0;31m    It provides a higher-level interface for working with threads, allowing you to create and control them effectively.\u001b[0m\n\u001b[0m    ^\u001b[0m\n\u001b[0;31mIndentationError\u001b[0m\u001b[0;31m:\u001b[0m unexpected indent\n"
     ]
    }
   ],
   "source": [
    "#The threading module in Python is used for creating and managing threads in a multithreaded program.\n",
    " It provides a higher-level interface for working with threads, allowing you to create and control them effectively. \n",
    "     Here's an explanation of the uses of the functions activeCount(), currentThread(), and enumerate() within the threading module:\n"
   ]
  },
  {
   "cell_type": "code",
   "execution_count": 7,
   "id": "d0f2e6bf-b9e8-4d31-ac18-a1cb420bc3d5",
   "metadata": {},
   "outputs": [],
   "source": [
    "#a.) activeCount() Function:\n",
    "#Use: The activeCount() function is used to get the current number of active threads (Thread objects) in the current Python interpreter.\n",
    "#Purpose: It helps you monitor and check how many threads are currently running or in a runnable state.\n"
   ]
  },
  {
   "cell_type": "code",
   "execution_count": 8,
   "id": "49c700f7-0f15-438b-b0d6-66e7f631ff03",
   "metadata": {},
   "outputs": [],
   "source": [
    "#b.) currentThread() Function:\n",
    "\n",
    "#Use: The currentThread() function is used to obtain a reference to the currently executing Thread object.\n",
    "#Purpose: It allows you to access information about the current thread, such as its name or other thread-specific data"
   ]
  },
  {
   "cell_type": "code",
   "execution_count": 9,
   "id": "13f66eeb-0fd0-4d6f-910b-3d0d316641d7",
   "metadata": {},
   "outputs": [
    {
     "ename": "SyntaxError",
     "evalue": "invalid syntax (3196970249.py, line 7)",
     "output_type": "error",
     "traceback": [
      "\u001b[0;36m  Cell \u001b[0;32mIn[9], line 7\u001b[0;36m\u001b[0m\n\u001b[0;31m    allowing you to gain control over concurrent execution and thread-related information.\u001b[0m\n\u001b[0m             ^\u001b[0m\n\u001b[0;31mSyntaxError\u001b[0m\u001b[0;31m:\u001b[0m invalid syntax\n"
     ]
    }
   ],
   "source": [
    "#c.) enumerate() Function:\n",
    "\n",
    "#Use: The enumerate() function is used to obtain a list of all currently alive Thread objects.\n",
    "#Purpose: It helps you inspect and interact with all active threads in your program.\n",
    "\n",
    "#These functions within the threading module are essential tools for managing and monitoring threads in a multithreaded Python program, \n",
    "allowing you to gain control over concurrent execution and thread-related information."
   ]
  },
  {
   "cell_type": "code",
   "execution_count": 10,
   "id": "839d4c5b-97b4-4444-ae14-09c62210018f",
   "metadata": {},
   "outputs": [
    {
     "name": "stdout",
     "output_type": "stream",
     "text": [
      "Thread 1 is running\n",
      "Thread 2 is running\n",
      "Number of active threads: 8\n"
     ]
    },
    {
     "name": "stderr",
     "output_type": "stream",
     "text": [
      "/tmp/ipykernel_151/4202306684.py:19: DeprecationWarning: activeCount() is deprecated, use active_count() instead\n",
      "  num_active_threads = threading.activeCount()\n"
     ]
    }
   ],
   "source": [
    "#Example Implementation of activecount()\n",
    "\n",
    "import threading\n",
    "\n",
    "# Define functions to be used as thread targets\n",
    "def my_function1():\n",
    "    print(\"Thread 1 is running\")\n",
    "\n",
    "def my_function2():\n",
    "    print(\"Thread 2 is running\")\n",
    "    \n",
    "# Create and start multiple threads\n",
    "thread1 = threading.Thread(target=my_function1)\n",
    "thread2 = threading.Thread(target=my_function2)\n",
    "thread1.start()\n",
    "thread2.start()\n",
    "\n",
    "# Get the number of active threads\n",
    "num_active_threads = threading.activeCount()\n",
    "print(\"Number of active threads:\", num_active_threads)"
   ]
  },
  {
   "cell_type": "code",
   "execution_count": 11,
   "id": "dfe05054-70dd-4375-bab5-810e79115ee8",
   "metadata": {},
   "outputs": [
    {
     "name": "stdout",
     "output_type": "stream",
     "text": [
      "Current thread name: Thread 1\n",
      "Current thread name: Thread 2\n"
     ]
    },
    {
     "name": "stderr",
     "output_type": "stream",
     "text": [
      "/tmp/ipykernel_151/439700827.py:5: DeprecationWarning: currentThread() is deprecated, use current_thread() instead\n",
      "  current_thread = threading.currentThread()\n"
     ]
    }
   ],
   "source": [
    "#Example Implementation of currentThread()\n",
    "import threading\n",
    "\n",
    "def print_current_thread_name():\n",
    "    current_thread = threading.currentThread()\n",
    "    print(\"Current thread name:\", current_thread.name)\n",
    "\n",
    "thread1 = threading.Thread(target=print_current_thread_name, name=\"Thread 1\")\n",
    "thread2 = threading.Thread(target=print_current_thread_name, name=\"Thread 2\")\n",
    "\n",
    "thread1.start()\n",
    "thread2.start()"
   ]
  },
  {
   "cell_type": "code",
   "execution_count": 12,
   "id": "493358de-c97f-47c1-9cd5-57adb40a028d",
   "metadata": {},
   "outputs": [
    {
     "name": "stdout",
     "output_type": "stream",
     "text": [
      "Active thread: MainThread\n",
      "Active thread: IOPub\n",
      "Active thread: Heartbeat\n",
      "Active thread: Thread-3 (_watch_pipe_fd)\n",
      "Active thread: Thread-4 (_watch_pipe_fd)\n",
      "Active thread: Control\n",
      "Active thread: IPythonHistorySavingThread\n",
      "Active thread: Thread-2\n"
     ]
    }
   ],
   "source": [
    "#Example Implementation of enumerate()\n",
    "import threading\n",
    "\n",
    "def my_function():\n",
    "    pass\n",
    "\n",
    "thread1 = threading.Thread(target=my_function)\n",
    "thread2 = threading.Thread(target=my_function)\n",
    "\n",
    "thread1.start()\n",
    "thread2.start()\n",
    "\n",
    "# Get a list of all currently active threads\n",
    "active_threads = threading.enumerate()\n",
    "for thread in active_threads:\n",
    "    print(\"Active thread:\", thread.name)"
   ]
  },
  {
   "cell_type": "code",
   "execution_count": 13,
   "id": "77e1683d-3101-4bd9-93c7-341e1fbc5081",
   "metadata": {},
   "outputs": [],
   "source": [
    "#Q3. Explain the following functions\n",
    "#run()\n",
    "#start()\n",
    "#join()\n",
    "#isAlive()\n"
   ]
  },
  {
   "cell_type": "code",
   "execution_count": 15,
   "id": "0dbc6081-4a6e-4561-8623-6bdb7906ad61",
   "metadata": {},
   "outputs": [],
   "source": [
    "#1.run():\n",
    "    #a.The run() method is not typically directly invoked by the programmer when working with threads. Instead, it is a method that can be overridden in a custom class that extends the Thread class (or implements the Runnable interface in Java). The custom class represents the thread's behavior.\n",
    "    #b.When the thread is started using the start() method (explained below), the run() method of the custom class is automatically executed in the new thread. It contains the code that defines the task or behavior of the thread.\n",
    "# 2.start()\n",
    "    # The start() method is used to begin the execution of a thread.\n",
    "    # It allocates system resources for the new thread.\n",
    "    # It invokes the run() method of the thread's target, effectively starting the execution of the thread.\n",
    "    # It allows the thread to run concurrently with other threads.\n",
    "    # It's important to note that you should call start() on a thread object, not directly on the Thread class.\n",
    "#3.join():\n",
    "    # The join() method is used to wait for a thread to complete its execution. When you call join() on a thread, the program will block (pause) until the thread being joined finishes its task.\n",
    "    # This method is often used to ensure that the main program doesn't proceed further until the thread has completed its work. It's useful for synchronizing the execution of threads.\n",
    "\n",
    "#4.isAlive()\n",
    "    #The isAlive() method is used to check whether a thread is currently running or has completed its execution. It returns True if the thread is alive (running) and False if it has terminated.\n",
    "    #This method can be helpful for monitoring the state of threads and making decisions based on their status.\n",
    "    \n",
    "    \n",
    "    \n",
    "    \n",
    "    "
   ]
  },
  {
   "cell_type": "code",
   "execution_count": 16,
   "id": "04199a6b-cc5a-45ef-8f62-7c331292b98a",
   "metadata": {},
   "outputs": [
    {
     "name": "stdout",
     "output_type": "stream",
     "text": [
      "Thread is running\n"
     ]
    }
   ],
   "source": [
    "#Example Implementation of run()\n",
    "import threading\n",
    "\n",
    "class MyThread(threading.Thread):\n",
    "    def run(self):\n",
    "        # Code to be executed in the thread\n",
    "        print(\"Thread is running\")\n",
    "\n",
    "my_thread = MyThread()\n",
    "my_thread.start()  # This starts the thread and invokes the run() method."
   ]
  },
  {
   "cell_type": "code",
   "execution_count": 17,
   "id": "481cbcb4-c95b-4e42-a9e3-c158cf1ed5ba",
   "metadata": {},
   "outputs": [
    {
     "name": "stdout",
     "output_type": "stream",
     "text": [
      "Thread is running\n"
     ]
    }
   ],
   "source": [
    "#Example Implementation of start()\n",
    "import threading\n",
    "\n",
    "def thread_function():\n",
    "    print(\"Thread is running\")\n",
    "\n",
    "my_thread = threading.Thread(target=thread_function)\n",
    "my_thread.start()  # This starts the thread."
   ]
  },
  {
   "cell_type": "code",
   "execution_count": 18,
   "id": "0dbc54cb-9ad6-4fad-b999-1feb2805b6ae",
   "metadata": {},
   "outputs": [
    {
     "name": "stdout",
     "output_type": "stream",
     "text": [
      "Thread is running\n",
      "Main program continues\n"
     ]
    }
   ],
   "source": [
    "\n",
    "#Example Implementation of join()\n",
    "import threading\n",
    "\n",
    "def thread_function():\n",
    "    print(\"Thread is running\")\n",
    "\n",
    "my_thread = threading.Thread(target=thread_function)\n",
    "my_thread.start()  # Start the thread\n",
    "my_thread.join()   # Wait for the thread to finish before proceeding\n",
    "print(\"Main program continues\")"
   ]
  },
  {
   "cell_type": "code",
   "execution_count": 19,
   "id": "9d8a9974-20e1-41b3-806f-1c4e75a87a4c",
   "metadata": {},
   "outputs": [
    {
     "name": "stdout",
     "output_type": "stream",
     "text": [
      "Thread is running\n",
      "False\n",
      "False\n"
     ]
    }
   ],
   "source": [
    "#Example Implementation of isAlive()\n",
    "import threading\n",
    "\n",
    "def thread_function():\n",
    "    print(\"Thread is running\")\n",
    "\n",
    "my_thread = threading.Thread(target=thread_function)\n",
    "my_thread.start()  # Start the thread\n",
    "print(my_thread.is_alive())  # Check if the thread is alive (True)\n",
    "my_thread.join()   # Wait for the thread to finish\n",
    "print(my_thread.is_alive())  # Check if the thread is alive (False)"
   ]
  },
  {
   "cell_type": "code",
   "execution_count": 20,
   "id": "9670bec4-6c17-4056-9aa0-52a6c81d9a57",
   "metadata": {},
   "outputs": [],
   "source": [
    "#Q4. Write a python program to create two threads. Thread one must print the list of squares and thread two must print the list of cubes\n"
   ]
  },
  {
   "cell_type": "code",
   "execution_count": 21,
   "id": "d355b6e6-f9e0-4bcc-8876-2ae6a5853bdc",
   "metadata": {},
   "outputs": [
    {
     "name": "stdout",
     "output_type": "stream",
     "text": [
      "Square of the 1 is 1 \n",
      "Square of the 2 is 4 \n",
      "Square of the 3 is 9 \n",
      "Square of the 4 is 16 \n",
      "Square of the 5 is 25 \n",
      "Cube of the 1 is 1 \n",
      "Cube of the 2 is 8 \n",
      "Cube of the 3 is 27 \n",
      "Cube of the 4 is 64 \n",
      "Cube of the 5 is 125 \n",
      "Program completed\n"
     ]
    }
   ],
   "source": [
    "import threading \n",
    "\n",
    "def print_square(num):\n",
    "    for i in num:\n",
    "        sq=i**2\n",
    "        print(f\"Square of the {i} is {sq} \")\n",
    "        \n",
    "def print_cube(num):\n",
    "    for i in num:\n",
    "        cube=i**3\n",
    "        print(f\"Cube of the {i} is {cube} \")\n",
    "        \n",
    "list_num = [1,2,3,4,5]\n",
    "\n",
    "thread1=threading.Thread(target=print_square,args=(list_num,))\n",
    "thread1.start()\n",
    "\n",
    "thread2=threading.Thread(target=print_cube,args=(list_num,))\n",
    "thread2.start()\n",
    "        \n",
    "    \n",
    "thread1.join()\n",
    "thread2.join()\n",
    "\n",
    "print(\"Program completed\")"
   ]
  },
  {
   "cell_type": "code",
   "execution_count": 22,
   "id": "dc4f2efb-26bf-4bf1-96fd-50ceaad50f97",
   "metadata": {},
   "outputs": [],
   "source": [
    "#Q5. State advantages and disadvantages of multithreading"
   ]
  },
  {
   "cell_type": "code",
   "execution_count": 23,
   "id": "0009f1bc-7d8c-4e67-8d6c-77cf140b96a9",
   "metadata": {},
   "outputs": [],
   "source": [
    "                   #Advantages of Multithreading:\n",
    "#1.Improved Performance: Enables concurrent execution, improving application speed.\n",
    "#2.Responsiveness: Maintains a responsive user interface during background tasks.\n",
    "#3.Resource Sharing: Efficiently shares resources among threads.\n",
    "#4.Scalability: Enhances server applications' ability to handle multiple clients.\n",
    "#5.Modularization: Organizes code into separate threads for readability.\n",
    "                  #Disadvantages of Multithreading:\n",
    "#1.Complexity: Adds complexity to code design and debugging.\n",
    "#2.Synchronization Overhead: Synchronization reduces performance gains.\n",
    "#3.Race Conditions: Simultaneous data access can lead to unpredictable behavior.\n",
    "#4.Deadlocks: Threads waiting for each other can freeze the program.\n",
    "#5.Resource Contention: Competition for resources may degrade performance."
   ]
  },
  {
   "cell_type": "code",
   "execution_count": null,
   "id": "574b2632-c8ab-4a5d-bc21-3267404ff9e8",
   "metadata": {},
   "outputs": [],
   "source": []
  }
 ],
 "metadata": {
  "kernelspec": {
   "display_name": "Python 3 (ipykernel)",
   "language": "python",
   "name": "python3"
  },
  "language_info": {
   "codemirror_mode": {
    "name": "ipython",
    "version": 3
   },
   "file_extension": ".py",
   "mimetype": "text/x-python",
   "name": "python",
   "nbconvert_exporter": "python",
   "pygments_lexer": "ipython3",
   "version": "3.10.8"
  }
 },
 "nbformat": 4,
 "nbformat_minor": 5
}
