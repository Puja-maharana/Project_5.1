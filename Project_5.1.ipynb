{
 "cells": [
  {
   "cell_type": "code",
   "execution_count": 1,
   "id": "6d1856c7-d969-4545-b93d-016245529142",
   "metadata": {},
   "outputs": [],
   "source": [
    "#Q1)What is an Exception in python?Write the differences between Exception and syntax errors"
   ]
  },
  {
   "cell_type": "code",
   "execution_count": 2,
   "id": "9f393140-84f4-4e60-89e3-f035bc83ee7c",
   "metadata": {},
   "outputs": [
    {
     "ename": "SyntaxError",
     "evalue": "unmatched ')' (2366211493.py, line 6)",
     "output_type": "error",
     "traceback": [
      "\u001b[0;36m  Cell \u001b[0;32mIn[2], line 6\u001b[0;36m\u001b[0m\n\u001b[0;31m    1)Syntax errors : When the proper syntax of the language is not followed then a syntax error is thrown.\u001b[0m\n\u001b[0m     ^\u001b[0m\n\u001b[0;31mSyntaxError\u001b[0m\u001b[0;31m:\u001b[0m unmatched ')'\n"
     ]
    }
   ],
   "source": [
    "Errors are the problems in a program due to which the program will stop the execution.\n",
    "On the other hand, exceptions are raised when some internal events occur which changes the normal flow of the program.\n",
    "\n",
    "Two types of Error occurs in python.\n",
    "\n",
    "1)Syntax errors : When the proper syntax of the language is not followed then a syntax error is thrown.\n",
    "\n",
    "2)Logical errors (Exceptions) : When in the runtime an error that occurs after passing the syntax test is called exception or logical type.\n"
   ]
  },
  {
   "cell_type": "code",
   "execution_count": 3,
   "id": "787ca141-0179-4910-8c6f-e82944d50660",
   "metadata": {},
   "outputs": [
    {
     "name": "stdout",
     "output_type": "stream",
     "text": [
      "Well that didn't work\n"
     ]
    }
   ],
   "source": [
    "#syntax error\n",
    "a = 'print('\n",
    "b = '\"Hello)\"'\n",
    "try:\n",
    "    exec(a+b) #this will try to execute print(\"Hello)\" <= note the wrong syntax\n",
    "except SyntaxError:\n",
    "    print('Well that didn\\'t work')"
   ]
  },
  {
   "cell_type": "code",
   "execution_count": 4,
   "id": "07b2308b-1fdb-4286-815d-9b9ed02309e3",
   "metadata": {},
   "outputs": [
    {
     "name": "stdout",
     "output_type": "stream",
     "text": [
      "Error :  division by zero\n"
     ]
    }
   ],
   "source": [
    "#logical error\n",
    "a= 12\n",
    "\n",
    "try :\n",
    "    print(a/0)\n",
    "\n",
    "except ZeroDivisionError as e:\n",
    "    print(\"Error : \",e)"
   ]
  },
  {
   "cell_type": "code",
   "execution_count": 5,
   "id": "b30fb72e-7d83-43b3-bb58-9573e7423f44",
   "metadata": {},
   "outputs": [],
   "source": [
    "\n",
    "#Q2) What happens when an exception is not handled ? Explain with an example"
   ]
  },
  {
   "cell_type": "code",
   "execution_count": 6,
   "id": "5db1e2b5-5f1f-46ad-b400-c1022f460f4b",
   "metadata": {},
   "outputs": [],
   "source": [
    "#When an exception is not handled, it propagates through the program's execution stack until it either reaches an appropriate exception handler or terminates the program if no handler is found. This process is known as \"unhandled exception\" or \"exception propagation.\"\n"
   ]
  },
  {
   "cell_type": "code",
   "execution_count": 7,
   "id": "76934c28-07d5-48f1-b1fe-bb1f5b8c4048",
   "metadata": {},
   "outputs": [
    {
     "name": "stdout",
     "output_type": "stream",
     "text": [
      "The result of the division is: 4.0\n",
      "Error: Division by zero is not allowed. division by zero\n"
     ]
    }
   ],
   "source": [
    "\n",
    "def divide_numbers(a, b):\n",
    "    try:\n",
    "        result = a / b\n",
    "        print(\"The result of the division is:\", result)\n",
    "    except ZeroDivisionError as e:\n",
    "        print(\"Error: Division by zero is not allowed.\",e)\n",
    "\n",
    "# Example 1: Exception is handled\n",
    "divide_numbers(20, 5)  \n",
    "# Output: The result of the division is: 5.0\n",
    "\n",
    "\n",
    "# Example 2: Exception is not handled\n",
    "divide_numbers(30, 0)"
   ]
  },
  {
   "cell_type": "code",
   "execution_count": 8,
   "id": "c3a3557a-b713-41dd-bcdd-2a5b51310219",
   "metadata": {},
   "outputs": [],
   "source": [
    "#Q3) Which python statements are used to catch and handle Exceptions?Explain with an example"
   ]
  },
  {
   "cell_type": "code",
   "execution_count": 9,
   "id": "7da35286-7a76-47c0-b884-15a5f865423e",
   "metadata": {},
   "outputs": [
    {
     "ename": "SyntaxError",
     "evalue": "invalid syntax (4180341199.py, line 1)",
     "output_type": "error",
     "traceback": [
      "\u001b[0;36m  Cell \u001b[0;32mIn[9], line 1\u001b[0;36m\u001b[0m\n\u001b[0;31m    Exceptions can be caught and handled in python using the try ,except and finally statements.\u001b[0m\n\u001b[0m               ^\u001b[0m\n\u001b[0;31mSyntaxError\u001b[0m\u001b[0;31m:\u001b[0m invalid syntax\n"
     ]
    }
   ],
   "source": [
    "Exceptions can be caught and handled in python using the try ,except and finally statements.\n",
    "The try block is used to enclose the code that may raise an exception, and the except block is\n",
    "used to specify the handling of the exception and the finally block executes no matter if the exception is caught or not."
   ]
  },
  {
   "cell_type": "code",
   "execution_count": 10,
   "id": "39585ac7-3f2c-4b8d-9d32-2355ca89912f",
   "metadata": {},
   "outputs": [
    {
     "name": "stdout",
     "output_type": "stream",
     "text": [
      "The result :  25\n",
      "The code is executed successfully\n",
      "Warning error has occured  unsupported operand type(s) for +: 'int' and 'str'\n",
      "The code is executed successfully\n"
     ]
    }
   ],
   "source": [
    "\n",
    "def add(a,b):\n",
    "    try:\n",
    "        add = a+b\n",
    "        print(\"The result : \",add)     \n",
    "    except Exception as e:\n",
    "        print(\"Warning error has occured \",e)\n",
    "    finally:\n",
    "        print(\"The code is executed successfully\")\n",
    "        \n",
    "# Example 1: Exception is handled\n",
    "add(20, 5) \n",
    "\n",
    "# Example 1: Exception is handled\n",
    "add(20, \"hsj\")"
   ]
  },
  {
   "cell_type": "code",
   "execution_count": 11,
   "id": "0cbe87d1-90e3-4e7e-b314-59d743d7161a",
   "metadata": {},
   "outputs": [],
   "source": [
    "#Q4) Explain with example:\n",
    "#try and else\n",
    "#finally\n",
    "#raise"
   ]
  },
  {
   "cell_type": "code",
   "execution_count": 12,
   "id": "0970534e-6fb4-4717-9498-1c9d0e586b21",
   "metadata": {},
   "outputs": [
    {
     "name": "stdout",
     "output_type": "stream",
     "text": [
      "this block will execute once try block will execute itself without an exception\n"
     ]
    }
   ],
   "source": [
    "#try and else\n",
    "try :\n",
    "    f = open(\"test.txt\",'w')\n",
    "    f.write(\"this is my message\")\n",
    "    \n",
    "except Exception as e:\n",
    "    print(\"there is some issue with my code\",e)\n",
    "    \n",
    "else:\n",
    "    f.close()\n",
    "    print(\"this block will execute once try block will execute itself without an exception\")"
   ]
  },
  {
   "cell_type": "code",
   "execution_count": 13,
   "id": "051726ff-aa01-4c7e-81bc-715d22833978",
   "metadata": {},
   "outputs": [
    {
     "name": "stdout",
     "output_type": "stream",
     "text": [
      "this block will execute once try block will execute itself without an exception\n",
      "this block will always execute no matter what\n"
     ]
    }
   ],
   "source": [
    "#finally\n",
    "try :\n",
    "    f = open(\"test.txt\",'w')\n",
    "    f.write(\"this is my message\")\n",
    "    \n",
    "except Exception as e:\n",
    "    print(\"there is some issue with my code\",e)\n",
    "    \n",
    "else:\n",
    "    f.close()\n",
    "    print(\"this block will execute once try block will execute itself without an exception\")\n",
    "    \n",
    "finally:\n",
    "    print(\"this block will always execute no matter what\")\n"
   ]
  },
  {
   "cell_type": "code",
   "execution_count": 16,
   "id": "e61a9cb0-f340-40ea-a15c-775cc163bba7",
   "metadata": {},
   "outputs": [
    {
     "name": "stdin",
     "output_type": "stream",
     "text": [
      "Enter your age 10\n"
     ]
    },
    {
     "name": "stdout",
     "output_type": "stream",
     "text": [
      "age is valid\n"
     ]
    }
   ],
   "source": [
    "#raise\n",
    "class validateage(Exception):\n",
    "    def __init__(self,msg):\n",
    "        self.msg=msg\n",
    "        \n",
    "\n",
    "def validate_age(age):\n",
    "    if age<0 :\n",
    "        raise validateage(\"age cant be less than 0\")\n",
    "    elif age>200:\n",
    "        raise validateage(\"age is too big\")\n",
    "    else:\n",
    "        raise validateage(\"age is valid\")\n",
    "\n",
    "try:\n",
    "    age= int(input(\"Enter your age\"))\n",
    "    validate_age(age)\n",
    "except validateage as e:\n",
    "    print(e)"
   ]
  },
  {
   "cell_type": "code",
   "execution_count": 17,
   "id": "43fe236f-2822-48e5-9d6f-9a8a0ba7462b",
   "metadata": {},
   "outputs": [],
   "source": [
    "#Q5) What are custom exceptions ? Why do we need custom Exceptions? Explain with example?"
   ]
  },
  {
   "cell_type": "code",
   "execution_count": 19,
   "id": "94c9d350-259a-411c-ae8f-41df7546ff08",
   "metadata": {},
   "outputs": [],
   "source": [
    "#Custom exceptions, also known as user-defined exceptions, are exceptions that you create in your Python code to represent specific error conditions or exceptional situations that are not covered by the built-in exceptions provided by Python."
   ]
  },
  {
   "cell_type": "code",
   "execution_count": 21,
   "id": "d561b275-6aaa-48c0-b108-3e6e2c893cf1",
   "metadata": {},
   "outputs": [],
   "source": [
    "#>Provide more descriptive error messages.\n",
    "#->Enhance code modularity and organization.\n",
    "#->Enable clearer and explicit exception handling.\n",
    "#->Offer extensibility and flexibility in defining exception hierarchies.\n",
    "#->Facilitate domain-specific error handling.\n"
   ]
  },
  {
   "cell_type": "code",
   "execution_count": 24,
   "id": "70c137f4-b17d-4a95-8e50-e88fb8863159",
   "metadata": {},
   "outputs": [
    {
     "name": "stdin",
     "output_type": "stream",
     "text": [
      "Enter your age 400\n"
     ]
    },
    {
     "name": "stdout",
     "output_type": "stream",
     "text": [
      "age is too big\n"
     ]
    }
   ],
   "source": [
    "class validateage(Exception):\n",
    "    def __init__(self,msg):\n",
    "        self.msg=msg\n",
    "        \n",
    "\n",
    "def validate_age(age):\n",
    "    if age<0 :\n",
    "        raise validateage(\"age cant be less than 0\")\n",
    "    elif age>200:\n",
    "        raise validateage(\"age is too big\")\n",
    "    else:\n",
    "        raise validateage(\"age is valid\")\n",
    "\n",
    "try:\n",
    "    age= int(input(\"Enter your age\"))\n",
    "    validate_age(age)\n",
    "except validateage as e:\n",
    "    print(e)"
   ]
  },
  {
   "cell_type": "code",
   "execution_count": 26,
   "id": "b7e84c79-13b8-42c3-8077-806f2e7ba5fc",
   "metadata": {},
   "outputs": [],
   "source": [
    "#Q6)Create a custom exception class .Use this to handle Exception"
   ]
  },
  {
   "cell_type": "code",
   "execution_count": 28,
   "id": "603acb5c-bc45-41d9-910e-40ffd5c3f93a",
   "metadata": {},
   "outputs": [
    {
     "name": "stdout",
     "output_type": "stream",
     "text": [
      "Operation cant be performed type of variables is diiferent\n",
      "Program complteted its execution\n"
     ]
    }
   ],
   "source": [
    "class addition_class(Exception):\n",
    "    def __init__(self,msg):\n",
    "        self.msg = msg\n",
    "        \n",
    "\n",
    "def add_opperation(a,b):\n",
    "    if type(a) != type(b):\n",
    "        raise addition_class(\"Operation cant be performed type of variables is diiferent\")\n",
    "    else:\n",
    "        r=a+b\n",
    "        raise addition_class(f\"Result is : {r} \")\n",
    "        \n",
    "\n",
    "try:\n",
    "        add_opperation(\"str\",12)\n",
    "except addition_class as e:\n",
    "    print(e)\n",
    "finally:\n",
    "     print(\"Program complteted its execution\")"
   ]
  },
  {
   "cell_type": "code",
   "execution_count": null,
   "id": "fa30cb64-304a-4229-ac64-dcc2e15865b6",
   "metadata": {},
   "outputs": [],
   "source": []
  }
 ],
 "metadata": {
  "kernelspec": {
   "display_name": "Python 3 (ipykernel)",
   "language": "python",
   "name": "python3"
  },
  "language_info": {
   "codemirror_mode": {
    "name": "ipython",
    "version": 3
   },
   "file_extension": ".py",
   "mimetype": "text/x-python",
   "name": "python",
   "nbconvert_exporter": "python",
   "pygments_lexer": "ipython3",
   "version": "3.10.8"
  }
 },
 "nbformat": 4,
 "nbformat_minor": 5
}
